{
 "cells": [
  {
   "cell_type": "code",
   "execution_count": 8,
   "metadata": {
    "scrolled": true
   },
   "outputs": [],
   "source": [
    "import MDAnalysis as mda \n",
    "import clustering.cluster as psw_cluster"
   ]
  },
  {
   "cell_type": "code",
   "execution_count": 2,
   "metadata": {},
   "outputs": [],
   "source": [
    "topology_ = '../../../for_hrach/tx114/production.tpr'\n",
    "\n",
    "trajectory_ = '../../../for_hrach/tx114/production.trr'\n",
    "\n",
    "cluster_atom_sel = 'name C*'\n",
    "\n",
    "cutoff_cluster=10.0\n",
    "\n",
    "u=mda.Universe(topology_,trajectory_)\n",
    "\n",
    "selection=u.select_atoms(cluster_atom_sel)\n"
   ]
  },
  {
   "cell_type": "code",
   "execution_count": 7,
   "metadata": {},
   "outputs": [
    {
     "data": {
      "text/plain": [
       "4500"
      ]
     },
     "execution_count": 7,
     "metadata": {},
     "output_type": "execute_result"
    }
   ],
   "source": [
    "len(selection)"
   ]
  },
  {
   "cell_type": "code",
   "execution_count": 5,
   "metadata": {},
   "outputs": [
    {
     "name": "stdout",
     "output_type": "stream",
     "text": [
      "22\n"
     ]
    }
   ],
   "source": [
    "c=psw_cluster.find_largest_cluster(u,10,\n",
    "                                   selection='name C*',\n",
    "                                   cutoff_distance=6,\n",
    "                                   define_clustering_atoms=False)()\n",
    "print(len(c))"
   ]
  },
  {
   "cell_type": "code",
   "execution_count": 6,
   "metadata": {},
   "outputs": [
    {
     "name": "stdout",
     "output_type": "stream",
     "text": [
      "[{0, 19, 141}, {1, 40, 105, 16, 116, 120}, {2, 66, 5, 135, 41, 43, 111, 84, 85, 118, 95, 62, 127}, {24, 57, 114, 3}, {10, 4, 76}, {32, 33, 132, 133, 6, 42, 20, 117, 86, 121, 28}, {112, 7}, {8}, {129, 9, 12, 143, 144, 18, 23, 39, 45, 50, 54, 55, 61, 63, 65, 70, 81, 91, 92, 104, 110}, {122, 11, 71, 47}, {100, 13, 17, 89, 60}, {14}, {15}, {21}, {82, 75, 22}, {34, 131, 44, 52, 25}, {138, 140, 26, 29, 36, 48, 49, 51, 68, 69, 72, 77, 80, 83, 88, 98, 103, 113, 115, 119, 123, 124}, {27}, {96, 130, 37, 90, 30}, {31}, {35}, {38}, {46}, {109, 53}, {56}, {58}, {59}, {64}, {67}, {73}, {74}, {78}, {79}, {87}, {148, 93}, {94}, {136, 97}, {99}, {101, 134}, {102}, {106}, {145, 107}, {108}, {125}, {126}, {128}, {137}, {139}, {142}, {146}, {147}, {149}]\n"
     ]
    }
   ],
   "source": [
    "c=psw_cluster.find_all_clusters(u,10,\n",
    "                                   selection='name C*',\n",
    "                                   cutoff_distance=6,\n",
    "                                   define_clustering_atoms=False)()\n",
    "print(c)"
   ]
  },
  {
   "cell_type": "code",
   "execution_count": null,
   "metadata": {},
   "outputs": [],
   "source": []
  }
 ],
 "metadata": {
  "kernelspec": {
   "display_name": "Python 3 (ipykernel)",
   "language": "python",
   "name": "python3"
  },
  "language_info": {
   "codemirror_mode": {
    "name": "ipython",
    "version": 3
   },
   "file_extension": ".py",
   "mimetype": "text/x-python",
   "name": "python",
   "nbconvert_exporter": "python",
   "pygments_lexer": "ipython3",
   "version": "3.10.4"
  }
 },
 "nbformat": 4,
 "nbformat_minor": 4
}
