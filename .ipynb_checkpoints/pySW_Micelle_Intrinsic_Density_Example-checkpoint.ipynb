{
 "cells": [
  {
   "cell_type": "code",
   "execution_count": 12,
   "metadata": {
    "scrolled": false
   },
   "outputs": [],
   "source": [
    "import MDAnalysis as mda \n",
    "import matplotlib.pyplot as plt\n",
    "import numpy as np\n",
    "import scipy.stats as stats\n",
    "\n",
    "import clustering.cluster as pysw_cluster\n",
    "import ICSI.icsi as pysw_icsi\n",
    "import IPI.ipi as pysw_ipi"
   ]
  },
  {
   "cell_type": "code",
   "execution_count": 2,
   "metadata": {},
   "outputs": [],
   "source": [
    "topology_ = './../../../for_hrach/tx114/production.tpr'\n",
    "\n",
    "trajectory_ = './../../../for_hrach/tx114/production.trr'\n",
    "\n",
    "u=mda.Universe(topology_,trajectory_)\n"
   ]
  },
  {
   "cell_type": "markdown",
   "metadata": {},
   "source": [
    "# Example micelle intrinsic density calculation"
   ]
  },
  {
   "cell_type": "code",
   "execution_count": 4,
   "metadata": {
    "scrolled": true
   },
   "outputs": [
    {
     "name": "stdout",
     "output_type": "stream",
     "text": [
      "< Timestep 110 with unit cell dimensions [118.89845 118.89845 118.89845  90.       90.       90.     ] >\n",
      "< Timestep 111 with unit cell dimensions [118.903595 118.903595 118.903595  90.        90.        90.      ] >\n",
      "< Timestep 112 with unit cell dimensions [118.88398 118.88398 118.88398  90.       90.       90.     ] >\n",
      "< Timestep 113 with unit cell dimensions [118.86883 118.86883 118.86883  90.       90.       90.     ] >\n",
      "< Timestep 114 with unit cell dimensions [118.86122 118.86122 118.86122  90.       90.       90.     ] >\n"
     ]
    }
   ],
   "source": [
    "\n",
    "\n",
    "n_rand_points=50000\n",
    "start,stop,skip=110,115,1\n",
    "\n",
    "micelle_shell= 'resname TX4 and not name C1D C1C C1B C1A C1E C1F C2 C3A C3B C4 C5 C6C C6B C6A and prop mass ==12.011'\n",
    "micelle_core= 'resname TX4 and name C1D C1C C1B C1A C1E C1F C2 C3A C3B C4 C5 C6C C6B C6A and prop mass ==12.011'\n",
    "\n",
    "### create lists to save data\n",
    "intrinsic_r_tx114,intrinsic_r_rand_tx114 , box_size = [] , [] , []\n",
    "\n",
    "\n",
    "for ts in u.trajectory[start:stop:skip]:\n",
    "    \n",
    "    #find the largest cluster (this is the micelle)\n",
    "    \n",
    "    largest_cluster_resids=psw_cluster.find_largest_cluster(u,\n",
    "                                   frame=ts.frame,\n",
    "                                   selection='name C*',\n",
    "                                   cutoff_distance=10,\n",
    "                                   define_clustering_atoms=False)()\n",
    "\n",
    "    #unwrap the micelle coordinates\n",
    "    \n",
    "    cluster_atoms_positions,core_sel_atoms_positions,shell_sel_atoms_positions=psw_cluster.make_cluster_whole(u,\n",
    "                                    frame = ts.frame,\n",
    "                                    cluster_resids  = largest_cluster_resids,\n",
    "                                    core_selection  = micelle_core,\n",
    "                                    shell_selection = micelle_shell)()\n",
    "    \n",
    "    #calculate the intrinsic positions of the micelle shell using ICSI\n",
    "    \n",
    "    intrinsic_r, spherical_r, icsi_vals = icsi.icsi(u, \n",
    "                                                        \n",
    "                                    cluster_resids=largest_cluster_resids,\n",
    "                                    cluster_atoms_positions=cluster_atoms_positions,\n",
    "                                    core_sel_atoms_positions=core_sel_atoms_positions,\n",
    "                                    shell_sel_atoms_positions=shell_sel_atoms_positions,\n",
    "                                    frame=ts.frame,\n",
    "                                    no_bins=31,\n",
    "                                    no_random_points=n_rand_points,\n",
    "                                    normalisation_run=False)()\n",
    "\n",
    "    #bin and save the intrinsic positions \n",
    "    \n",
    "    intrinsic_r_tx114.append(stats.binned_statistic(intrinsic_r,intrinsic_r,bins=np.arange(-30.5,40,0.5),statistic='count').statistic)\n",
    "        \n",
    "    #calculate the normalisation factor \n",
    "    \n",
    "    intrinsic_r_rand, spherical_r_rand, icsi_vals = icsi.icsi(u, \n",
    "                                                        \n",
    "                                    cluster_resids=largest_cluster_resids,\n",
    "                                    cluster_atoms_positions=cluster_atoms_positions,\n",
    "                                    core_sel_atoms_positions=core_sel_atoms_positions,\n",
    "                                    shell_sel_atoms_positions=shell_sel_atoms_positions,\n",
    "                                    frame=ts.frame,\n",
    "                                    no_bins=31,\n",
    "                                    no_random_points=n_rand_points,\n",
    "                                    normalisation_run=True)()\n",
    "    \n",
    "    #bin and save the normalisation positions \n",
    "\n",
    "    intrinsic_r_rand_tx114.append(stats.binned_statistic(intrinsic_r_rand,intrinsic_r_rand,bins=np.arange(-30.5,40,0.5),statistic='count').statistic)\n",
    "    \n",
    "    #save the box size for each timestep\n",
    "\n",
    "    box_size.append(u.dimensions[0]*u.dimensions[1]*u.dimensions[2])\n",
    "    \n",
    "    print(ts)\n",
    "    \n",
    "    \n",
    "###calculate overall count for the intrinsic distance vector\n",
    "intrinsic_r_tx114_profile=np.sum(np.array(intrinsic_r_tx114),axis=0)\n",
    "\n",
    "###calculate the normalisation vector\n",
    "S_bar=np.sum(np.array(intrinsic_r_rand_tx114),axis=0)*np.mean(box_size) / (len(np.arange(start,stop,skip))*n_rand_points)\n",
    "\n",
    "\n"
   ]
  },
  {
   "cell_type": "code",
   "execution_count": null,
   "metadata": {},
   "outputs": [],
   "source": [
    "#save the profiles for plotting in the future so you don't have to recalculate..."
   ]
  },
  {
   "cell_type": "markdown",
   "metadata": {},
   "source": [
    "# Plot calculated intrinsic density of the shell"
   ]
  },
  {
   "cell_type": "code",
   "execution_count": 5,
   "metadata": {
    "scrolled": false
   },
   "outputs": [
    {
     "name": "stderr",
     "output_type": "stream",
     "text": [
      "/var/folders/mj/f780t1f175j8s3hb2g3mm24h0000gn/T/ipykernel_42311/1732386664.py:1: RuntimeWarning: invalid value encountered in true_divide\n",
      "  intrinsic_density_profile_shell = intrinsic_r_tx114_profile/S_bar\n"
     ]
    },
    {
     "data": {
      "image/png": "[encoded data removed]",
      "text/plain": [
       "<Figure size 504x432 with 1 Axes>"
      ]
     },
     "metadata": {
      "needs_background": "light"
     },
     "output_type": "display_data"
    }
   ],
   "source": [
    "intrinsic_density_profile_shell = intrinsic_r_tx114_profile/S_bar\n",
    "\n",
    "plt.rcParams.update({'font.size': 18})\n",
    "\n",
    "\n",
    "fig=plt.figure(figsize=(7,6))\n",
    "ax = plt.subplot(111)\n",
    "plt.plot(np.arange(-30.25,39.75,0.5),intrinsic_density_profile_shell,lw=3,c=\"xkcd:tangerine\")\n",
    "\n",
    "plt.xlabel(r'$r \\ [{\\mathrm{\\AA}}]$')\n",
    "plt.ylabel(r'$\\tilde{\\rho}(r) \\ [{\\mathrm{\\AA}^{-3}}]$')\n",
    "\n",
    "plt.xlim(-20,30)\n",
    "plt.ylim(0,0.1)\n",
    "ax.spines['right'].set_visible(False)\n",
    "ax.spines['top'].set_visible(False)\n",
    "plt.tight_layout()\n",
    "# plt.savefig('intrinsic_density_tx114.pdf')\n",
    "plt.show()"
   ]
  },
  {
   "cell_type": "code",
   "execution_count": null,
   "metadata": {},
   "outputs": [],
   "source": []
  },
  {
   "cell_type": "code",
   "execution_count": null,
   "metadata": {},
   "outputs": [],
   "source": []
  },
  {
   "cell_type": "code",
   "execution_count": null,
   "metadata": {},
   "outputs": [],
   "source": []
  },
  {
   "cell_type": "code",
   "execution_count": 85,
   "metadata": {},
   "outputs": [],
   "source": [
    "micelle = u.select_atoms('resname TX4 and name C1D C1C C1B C1A C1E C1F C2 C3A C3B C4 C5 C6C C6B C6A and prop mass ==12.011')\n",
    "shell = u.select_atoms('resname TX4 and not name C1D C1C C1B C1A C1E C1F C2 C3A C3B C4 C5 C6C C6B C6A and prop mass ==12.011')\n",
    "\n",
    "xyz_bin = stats.binned_statistic_dd(micelle.positions,micelle.positions,\n",
    "                                    bins=[np.arange(0,u.dimensions[0]+0.1,2),np.arange(0,u.dimensions[1]+0.1,2),np.arange(0,u.dimensions[2]+0.1,2)],\n",
    "                                    statistic='count').statistic\n"
   ]
  },
  {
   "cell_type": "code",
   "execution_count": 108,
   "metadata": {},
   "outputs": [
    {
     "data": {
      "text/plain": [
       "(array([   0,    0,    0, ..., 2099, 2099, 2099]),\n",
       " array([ 0,  0,  0, ..., 45, 58, 58]),\n",
       " array([34, 34, 35, ..., 33, 34, 35]),\n",
       " array([29, 31, 28, ..., 30, 30, 30]))"
      ]
     },
     "execution_count": 108,
     "metadata": {},
     "output_type": "execute_result"
    }
   ],
   "source": [
    "np.where(xyz_bin>0)"
   ]
  },
  {
   "cell_type": "code",
   "execution_count": 94,
   "metadata": {},
   "outputs": [
    {
     "data": {
      "text/plain": [
       "((array([   0,    0,    0, ..., 2099, 2099, 2099]),\n",
       "  array([ 0,  0,  0, ..., 45, 58, 58]),\n",
       "  array([34, 34, 35, ..., 33, 34, 35]),\n",
       "  array([29, 31, 28, ..., 30, 30, 30])),\n",
       " 216000)"
      ]
     },
     "execution_count": 94,
     "metadata": {},
     "output_type": "execute_result"
    }
   ],
   "source": [
    "np.nonzero(xyz_bin)[0,(len(np.arange(0,u.dimensions[0]+0.1,2))**3)\n",
    "\n"
   ]
  },
  {
   "cell_type": "code",
   "execution_count": 67,
   "metadata": {},
   "outputs": [
    {
     "data": {
      "text/plain": [
       "798.9524604308391"
      ]
     },
     "execution_count": 67,
     "metadata": {},
     "output_type": "execute_result"
    }
   ],
   "source": [
    "(np.sum(xyz_bin>0)/(np.shape(xyz_bin)[0]**3))*(u.dimensions[0]*u.dimensions[1]*u.dimensions[2])"
   ]
  },
  {
   "cell_type": "code",
   "execution_count": 52,
   "metadata": {},
   "outputs": [],
   "source": [
    "from scipy.spatial import ConvexHull, convex_hull_plot_2d"
   ]
  },
  {
   "cell_type": "code",
   "execution_count": 83,
   "metadata": {},
   "outputs": [],
   "source": [
    "hull = ConvexHull(micelle.positions)"
   ]
  },
  {
   "cell_type": "code",
   "execution_count": 84,
   "metadata": {},
   "outputs": [
    {
     "data": {
      "text/plain": [
       "118828.72514257349"
      ]
     },
     "execution_count": 84,
     "metadata": {},
     "output_type": "execute_result"
    }
   ],
   "source": [
    "hull.volume"
   ]
  },
  {
   "cell_type": "code",
   "execution_count": null,
   "metadata": {},
   "outputs": [],
   "source": [
    "plt.plot(points[:,0], points[:,1], 'o')"
   ]
  }
 ],
 "metadata": {
  "kernelspec": {
   "display_name": "Python 3 (ipykernel)",
   "language": "python",
   "name": "python3"
  },
  "language_info": {
   "codemirror_mode": {
    "name": "ipython",
    "version": 3
   },
   "file_extension": ".py",
   "mimetype": "text/x-python",
   "name": "python",
   "nbconvert_exporter": "python",
   "pygments_lexer": "ipython3",
   "version": "3.9.7"
  }
 },
 "nbformat": 4,
 "nbformat_minor": 4
}
