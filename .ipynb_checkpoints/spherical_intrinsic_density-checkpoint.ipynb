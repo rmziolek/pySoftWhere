{
 "cells": [
  {
   "cell_type": "code",
   "execution_count": 1,
   "metadata": {},
   "outputs": [],
   "source": [
    "import numpy as np\n",
    "import MDAnalysis as mda\n",
    "import matplotlib.pyplot as plt\n",
    "import MDAnalysis.analysis.distances\n",
    "import networkx as nx\n",
    "import scipy.stats as stats\n",
    "from itertools import product as product"
   ]
  },
  {
   "cell_type": "code",
   "execution_count": 2,
   "metadata": {},
   "outputs": [],
   "source": [
    "u=mda.Universe('traj/ring/last_200ns.gro','traj/ring/last_200ns.xtc')"
   ]
  },
  {
   "cell_type": "code",
   "execution_count": 2,
   "metadata": {},
   "outputs": [],
   "source": [
    "u=mda.Universe('/Users/rmz/Downloads/c_90.pdb')"
   ]
  },
  {
   "cell_type": "code",
   "execution_count": 3,
   "metadata": {},
   "outputs": [],
   "source": [
    "def find_largest_cluster(u,\n",
    "                      frame,\n",
    "                      selection,\n",
    "                      cutoff_distance=10, \n",
    "                      cluster_atoms=False): #name of single atom\n",
    "    \n",
    "    u.trajectory[frame]\n",
    "    \n",
    "    polymers=u.select_atoms(selection)\n",
    "    \n",
    "    if  cluster_atoms==False:\n",
    "        cluster_atoms='name '+(polymers.atoms.names[0]) \n",
    "    else:\n",
    "        pass    \n",
    "    \n",
    "    cluster_atoms_sel = polymers.select_atoms(cluster_atoms)\n",
    "\n",
    "    dist_array=MDAnalysis.analysis.distanices.contact_matrix(cluster_atoms_sel.atoms.positions,\n",
    "                                                            cutoff=cutoff_distance,\n",
    "                                                            box=u.dimensions)\n",
    "\n",
    "    G = nx.from_numpy_matrix(dist_array)\n",
    "    clusters=[h for h in nx.connected_components(G)]\n",
    "    \n",
    "    for c in clusters:\n",
    "        if len(c)==max([len(c_) for c_ in clusters]):\n",
    "            largest_cluster_resids = [i+1 for i in  c]\n",
    "            \n",
    "#     clusters = []\n",
    "#     for c in clusters:\n",
    "#         if len(c)>min_cluster_size:\n",
    "#             clusters.append( [i+1 for i in  c])\n",
    "            \n",
    "    return largest_cluster_resids"
   ]
  },
  {
   "cell_type": "code",
   "execution_count": 21,
   "metadata": {},
   "outputs": [],
   "source": [
    "def make_cluster_whole(u,\n",
    "                       frame,\n",
    "                       cluster_resids,\n",
    "                       core_selection,  #need to add  -> easier to do it now\n",
    "                       shell_selection, #need to add- > easier to do it now \n",
    "                       solvent=False): \n",
    "    u.trajectory[frame]\n",
    "    \n",
    "    cluster_sel = u.select_atoms('resid '+\" \".join([str(i) for i in cluster_resids]))\n",
    "    core_sel = u.select_atoms(core_selection).select_atoms('resid '+\" \".join([str(i) for i in cluster_resids]))\n",
    "    shell_sel = u.select_atoms(shell_selection).select_atoms('resid '+\" \".join([str(i) for i in cluster_resids]))\n",
    "    \n",
    "    cluster_atoms_positions=cluster_sel.positions.copy()\n",
    "    core_sel_atoms_positions=core_sel.positions.copy()\n",
    "    shell_sel_atoms_positions=shell_sel.positions.copy()\n",
    "    \n",
    "\n",
    "\n",
    "        \n",
    "    box=u.dimensions\n",
    "\n",
    "    for dimension in range(0,3):\n",
    "\n",
    "        y = stats.binned_statistic(cluster_sel.positions[:,dimension],\n",
    "                                     cluster_sel.positions[:,dimension],\n",
    "                                     bins=np.arange(-50,box[0]+50,10),\n",
    "                                     statistic='count').statistic\n",
    "\n",
    "        a = stats.binned_statistic(cluster_sel.positions[:,dimension],\n",
    "                                   cluster_sel.positions[:,dimension],\n",
    "                                   bins=np.arange(-50,box[0]+50,10),\n",
    "                                   statistic='count').bin_edges\n",
    "\n",
    "        move_above=False\n",
    "        move_water=False\n",
    "\n",
    "        filled=np.where(y!=0)[0]\n",
    "\n",
    "        for i in range(len(filled)-1):\n",
    "            if filled[i]!=filled[i+1]-1:\n",
    "                move_above = a[filled[i+1]]\n",
    "                move_lower_bound=a[filled[i]]\n",
    "                move_water=(move_lower_bound+move_above)/2\n",
    "        ####\n",
    "\n",
    "        if move_above!=False:\n",
    "            for atom in range(len(cluster_atoms_positions)):\n",
    "                if cluster_atoms_positions[atom][dimension]>move_above:\n",
    "                    cluster_atoms_positions[atom][dimension]=cluster_atoms_positions[atom][dimension]-box[dimension]\n",
    "\n",
    "            for atom in range(len(core_sel_atoms_positions)):\n",
    "                if core_sel_atoms_positions[atom][dimension]>move_above:\n",
    "                    core_sel_atoms_positions[atom][dimension]=core_sel_atoms_positions[atom][dimension]-box[dimension]\n",
    "            \n",
    "            if solvent==False:\n",
    "\n",
    "                for atom in range(len(shell_sel_atoms_positions)):\n",
    "                    if shell_sel_atoms_positions[atom][dimension]>move_above:\n",
    "                        shell_sel_atoms_positions[atom][dimension]=shell_sel_atoms_positions[atom][dimension]-box[dimension]\n",
    "\n",
    "\n",
    "        if solvent!=False:\n",
    "            for atom in range(len(shell_sel_atoms_positions)):\n",
    "                if shell_sel_atoms_positions[atom][dimension]>move_water:\n",
    "                    shell_sel_atoms_positions[atom][dimension]=shell_sel_atoms_positions[atom][dimension]-box[dimension]\n",
    "        else:\n",
    "            solvent_atoms_positions=0\n",
    "            \n",
    "            \n",
    "    return cluster_atoms_positions,core_sel_atoms_positions,shell_sel_atoms_positions,solvent_atoms_positions\n",
    "\n",
    "\n"
   ]
  },
  {
   "cell_type": "code",
   "execution_count": null,
   "metadata": {},
   "outputs": [],
   "source": []
  },
  {
   "cell_type": "code",
   "execution_count": 5,
   "metadata": {},
   "outputs": [],
   "source": [
    "\n",
    "def cartesian_to_spherical(xyz):\n",
    "    ptsnew = np.hstack((xyz, np.zeros(xyz.shape)))\n",
    "    xy = xyz[:,0]**2 + xyz[:,1]**2\n",
    "    ptsnew[:,3] = np.sqrt(xy + xyz[:,2]**2)\n",
    "    ptsnew[:,4] = np.arctan2(np.sqrt(xy), xyz[:,2]) # for elevation angle defined from Z-axis down\n",
    "    #ptsnew[:,4] = np.arctan2(xyz[:,2], np.sqrt(xy)) # for elevation angle defined from XY-plane up\n",
    "    ptsnew[:,5] = np.arctan2(xyz[:,1], xyz[:,0])\n",
    "    return ptsnew\n"
   ]
  },
  {
   "cell_type": "code",
   "execution_count": 7,
   "metadata": {},
   "outputs": [
    {
     "ename": "SyntaxError",
     "evalue": "non-default argument follows default argument (700806580.py, line 5)",
     "output_type": "error",
     "traceback": [
      "\u001b[0;36m  File \u001b[0;32m\"/var/folders/mj/f780t1f175j8s3hb2g3mm24h0000gn/T/ipykernel_14200/700806580.py\"\u001b[0;36m, line \u001b[0;32m5\u001b[0m\n\u001b[0;31m    cluster_atoms_positions=cluster_atoms_positions,\u001b[0m\n\u001b[0m    ^\u001b[0m\n\u001b[0;31mSyntaxError\u001b[0m\u001b[0;31m:\u001b[0m non-default argument follows default argument\n"
     ]
    }
   ],
   "source": [
    "def spherical_intrinsic_density(u,\n",
    "                                frame=-1,\n",
    "                                no_bins=31,\n",
    "                                cluster_resids,\n",
    "                                cluster_atoms_positions=cluster_atoms_positions,\n",
    "                                core_sel_atoms_positions=core_sel_atoms_positions,\n",
    "                                shell_sel_atoms_positions=shell_sel_atoms_positions,\n",
    "                                no_random_points=10000,\n",
    "                                normalisation_run=False):\n",
    "    \n",
    "  #  no_bins=31 #this actually gives (N-1)**2 bins (this is the number of edges in 1D)\n",
    "    u.trajectory[frame]\n",
    "    box_=u.dimensions\n",
    "    \n",
    "    cluster_sel = u.select_atoms('resid '+\" \".join([str(i) for i in cluster_resids]))\n",
    "    \n",
    "    com = sum([(1/(sum(cluster_sel.masses)))*cluster_sel.masses[i]*cluster_atoms_positions[i] for i in range(len(cluster_sel))])\n",
    "#     print(com)\n",
    "    ####calc spherical polars of core\n",
    "    core_array = cartesian_to_spherical(core_sel_atoms_positions-com)\n",
    "    \n",
    "    r_core_tmp=core_array[:,3]\n",
    "    theta_core_tmp=core_array[:,4]\n",
    "    phi_core_tmp=core_array[:,5]\n",
    "\n",
    "#     r_core_sphere = [i for i in r_core_tmp]\n",
    "#     theta_core_sphere=[i for i in theta_core_tmp]\n",
    "#     phi_core_sphere=[i for i in phi_core_tmp]\n",
    "    \n",
    "    ####calc spherical polars of shell\n",
    "    \n",
    "    if normalisation_run == False:\n",
    "        shell_array = cartesian_to_spherical(shell_sel_atoms_positions-com)\n",
    "        \n",
    "    elif normalisation_run == True:\n",
    "        shell_array = cartesian_to_spherical(np.random.uniform(-u.dimensions[0]/2,u.dimensions[0]/2,size=(no_random_points,3)))\n",
    "    \n",
    "    r_shell_sphere_tmp=shell_array[:,3]\n",
    "    theta_shell_sphere_tmp=shell_array[:,4]\n",
    "    phi_shell_sphere_tmp=shell_array[:,5]\n",
    "\n",
    "#     r_shell_sphere = [i for i in r_shell_sphere_tmp]\n",
    "#     theta_shell_sphere=[i for i in theta_shell_sphere_tmp]\n",
    "#     phi_shell_sphere=[i for i in phi_shell_sphere_tmp]\n",
    "    \n",
    "    ###calc shell bins\n",
    "    \n",
    "    shell_pos=stats.binned_statistic_2d([np.cos(i) for i in theta_shell_sphere_tmp],phi_shell_sphere_tmp,r_shell_sphere_tmp,bins=[np.linspace(-1,1,no_bins),np.linspace(-np.pi,np.pi,no_bins)],expand_binnumbers=True,statistic='count')\n",
    "\n",
    "\n",
    "    ####calc interface positions\n",
    "    \n",
    "    interface=stats.binned_statistic_2d([np.cos(i) for i in theta_core_tmp],phi_core_tmp,r_core_tmp,bins=[np.linspace(-1,1,no_bins),np.linspace(-np.pi,np.pi,no_bins)],expand_binnumbers=True,statistic=np.max)###np.max finds edge of core!\n",
    "\n",
    "    interface_vals=interface.statistic.copy()\n",
    "\n",
    "\n",
    "    while np.count_nonzero(~np.isnan(interface_vals))!=(len(np.linspace(0,box_[0],num=no_bins))-1)*(len(np.linspace(0,box_[0],num=no_bins))-1):\n",
    "        for i in range(len(interface_vals)):\n",
    "            for j in range(len(interface_vals)):\n",
    "\n",
    "                if np.isnan(interface_vals[i][j]):\n",
    "                    n_i=[i-1,i,i+1]\n",
    "                    n_j=[j-1,j,j+1]\n",
    "                    interface_vals[i][j]=np.nanmean([interface_vals[divmod(ip,len(interface_vals))[1]][divmod(jp,len(interface_vals))[1]] for ip,jp in product(n_i,n_j)])\n",
    "\n",
    "\n",
    "    intrinsic_r,spherical_r = [],[]\n",
    "\n",
    "    for i in range(len(r_shell_sphere_tmp)):\n",
    "        bin_X=shell_pos.binnumber[0][i]-1\n",
    "        bin_Y=shell_pos.binnumber[1][i]-1\n",
    "\n",
    "\n",
    "        interface_pos=interface_vals[bin_X][bin_Y]\n",
    "        intrinsic_r.append(-interface_pos+r_shell_sphere_tmp[i])\n",
    "        spherical_r.append(r_shell_sphere_tmp[i])\n",
    "        \n",
    "    \n",
    "    \n",
    "    return intrinsic_r,spherical_r,np.mean(interface_vals),np.std(interface_vals)\n"
   ]
  },
  {
   "cell_type": "code",
   "execution_count": 29,
   "metadata": {},
   "outputs": [
    {
     "name": "stdout",
     "output_type": "stream",
     "text": [
      "Molecules in largest cluster identified: 16\n"
     ]
    }
   ],
   "source": [
    "largest_cluster_resids = find_largest_cluster(u,-1,'resname LIG',\n",
    "                                              cutoff_distance=15,\n",
    "                                              cluster_atoms=False)\n",
    "\n",
    "print('Molecules in largest cluster identified: '+str(len(largest_cluster_resids)))"
   ]
  },
  {
   "cell_type": "code",
   "execution_count": 144,
   "metadata": {},
   "outputs": [],
   "source": [
    "\n",
    "eo_o_names = 'name '+' '.join(str(i) for i in ['O009','O008', 'O007', 'O006', 'O005',  'O004' , 'O003',  'O002', 'O001',  'O000',  'O00F',  'O00G','O00H', 'O00I',  'O00J' ,'O00L', 'O00K', 'O00M' ,'O00N' , 'O00O', 'O00P', 'O00Q' , 'O00R', 'O00S' ,'O00T' , 'O00U', 'O00V',  'O00W' , 'O00X', 'O00Y','O011','9C02', 'C01Z', 'C01X', 'C01V', 'C01T', 'C01R', 'C01P', 'C01N', 'C01L', 'C01J', 'C01H', 'C01F', 'C01D', 'C01B', '7C01',\n",
    "            '9C01', '5C01', '3C01', '1C01', 'C00Z', 'C00X', '1C00','3C00', '5C00', '7C00', '9C00', 'C00B', 'C00D', 'C00F', 'C00H', 'C00J' ])\n",
    "\n",
    "ma_o_names = 'name '+' '.join(str(i) for i in  ['O012', 'O010', 'O015', 'O016', 'O019', 'O01A', 'O01D', 'O01F', 'O01G', 'O00C', 'O00D', 'O00A','8C02', '4C02', '2C02', 'C02E', 'C02I', 'C02M', 'C02Q', 'C02U', 'C02Y', 'C00S', 'C00Q', 'C00M' ])\n",
    "\n",
    "cluster_atoms_positions,core_sel_atoms_positions,shell_sel_atoms_positions,solvent_atoms_positions,solute_atoms_positions = make_cluster_whole(u,\n",
    "                                                                                            ts=-1,\n",
    "                                                                                           cluster_resids = largest_cluster_resids,\n",
    "                                                                                            core_selection=ma_o_names,\n",
    "                                                                                            shell_selection=eo_o_names)\n",
    "\n"
   ]
  },
  {
   "cell_type": "code",
   "execution_count": 30,
   "metadata": {},
   "outputs": [],
   "source": [
    "\n",
    "cluster_atoms_positions,core_sel_atoms_positions,shell_sel_atoms_positions,solvent_atoms_positions = make_cluster_whole(u,\n",
    "                                                                                            frame=0,\n",
    "                                                                                           cluster_resids = largest_cluster_resids,\n",
    "                                                                                            core_selection='all',\n",
    "                                                                                            shell_selection='all')\n"
   ]
  },
  {
   "cell_type": "code",
   "execution_count": 44,
   "metadata": {},
   "outputs": [
    {
     "data": {
      "image/png": "[encoded data removed]",
      "text/plain": [
       "<Figure size 432x288 with 1 Axes>"
      ]
     },
     "metadata": {
      "needs_background": "light"
     },
     "output_type": "display_data"
    },
    {
     "ename": "TypeError",
     "evalue": "unsupported operand type(s) for /: 'list' and 'int'",
     "output_type": "error",
     "traceback": [
      "\u001b[0;31m---------------------------------------------------------------------------\u001b[0m",
      "\u001b[0;31mTypeError\u001b[0m                                 Traceback (most recent call last)",
      "\u001b[0;32m/var/folders/mj/f780t1f175j8s3hb2g3mm24h0000gn/T/ipykernel_14200/1411089500.py\u001b[0m in \u001b[0;36m<module>\u001b[0;34m\u001b[0m\n\u001b[1;32m      1\u001b[0m \u001b[0mplt\u001b[0m\u001b[0;34m.\u001b[0m\u001b[0mhist\u001b[0m\u001b[0;34m(\u001b[0m\u001b[0mcluster_atoms_positions\u001b[0m\u001b[0;34m[\u001b[0m\u001b[0;34m:\u001b[0m\u001b[0;34m,\u001b[0m\u001b[0;36m1\u001b[0m\u001b[0;34m]\u001b[0m\u001b[0;34m,\u001b[0m\u001b[0mbins\u001b[0m\u001b[0;34m=\u001b[0m\u001b[0mnp\u001b[0m\u001b[0;34m.\u001b[0m\u001b[0marange\u001b[0m\u001b[0;34m(\u001b[0m\u001b[0;34m-\u001b[0m\u001b[0;36m80\u001b[0m\u001b[0;34m,\u001b[0m\u001b[0;36m150\u001b[0m\u001b[0;34m,\u001b[0m\u001b[0;36m5\u001b[0m\u001b[0;34m)\u001b[0m\u001b[0;34m)\u001b[0m\u001b[0;34m\u001b[0m\u001b[0;34m\u001b[0m\u001b[0m\n\u001b[1;32m      2\u001b[0m \u001b[0mplt\u001b[0m\u001b[0;34m.\u001b[0m\u001b[0mshow\u001b[0m\u001b[0;34m(\u001b[0m\u001b[0;34m)\u001b[0m\u001b[0;34m\u001b[0m\u001b[0;34m\u001b[0m\u001b[0m\n\u001b[0;32m----> 3\u001b[0;31m \u001b[0mz\u001b[0m\u001b[0;34m=\u001b[0m\u001b[0mmda\u001b[0m\u001b[0;34m.\u001b[0m\u001b[0mUniverse\u001b[0m\u001b[0;34m.\u001b[0m\u001b[0mempty\u001b[0m\u001b[0;34m(\u001b[0m\u001b[0mlen\u001b[0m\u001b[0;34m(\u001b[0m\u001b[0mu\u001b[0m\u001b[0;34m.\u001b[0m\u001b[0matoms\u001b[0m\u001b[0;34m)\u001b[0m\u001b[0;34m*\u001b[0m\u001b[0mlargest_cluster_resids\u001b[0m\u001b[0;34m/\u001b[0m\u001b[0;36m20\u001b[0m\u001b[0;34m,\u001b[0m\u001b[0;36m16\u001b[0m\u001b[0;34m)\u001b[0m\u001b[0;34m\u001b[0m\u001b[0;34m\u001b[0m\u001b[0m\n\u001b[0m\u001b[1;32m      4\u001b[0m \u001b[0mz\u001b[0m\u001b[0;34m.\u001b[0m\u001b[0madd_TopologyAttr\u001b[0m\u001b[0;34m(\u001b[0m\u001b[0;34m'names'\u001b[0m\u001b[0;34m,\u001b[0m\u001b[0mu\u001b[0m\u001b[0;34m.\u001b[0m\u001b[0matoms\u001b[0m\u001b[0;34m.\u001b[0m\u001b[0mnames\u001b[0m\u001b[0;34m)\u001b[0m\u001b[0;34m\u001b[0m\u001b[0;34m\u001b[0m\u001b[0m\n\u001b[1;32m      5\u001b[0m \u001b[0mz\u001b[0m\u001b[0;34m.\u001b[0m\u001b[0mload_new\u001b[0m\u001b[0;34m(\u001b[0m\u001b[0mcluster_atoms_positions\u001b[0m\u001b[0;34m)\u001b[0m\u001b[0;34m\u001b[0m\u001b[0;34m\u001b[0m\u001b[0m\n",
      "\u001b[0;31mTypeError\u001b[0m: unsupported operand type(s) for /: 'list' and 'int'"
     ]
    }
   ],
   "source": [
    "plt.hist(cluster_atoms_positions[:,1],bins=np.arange(-80,150,5))\n",
    "plt.show()\n",
    "z=mda.Universe.empty(len(u.atoms)*largest_cluster_resids/20),16)\n",
    "z.add_TopologyAttr('names',u.atoms.names)\n",
    "z.load_new(cluster_atoms_positions)"
   ]
  },
  {
   "cell_type": "code",
   "execution_count": 198,
   "metadata": {
    "scrolled": true
   },
   "outputs": [
    {
     "name": "stdout",
     "output_type": "stream",
     "text": [
      "Molecules in largest cluster identified: 11\n",
      "-1\n",
      "Molecules in largest cluster identified: 11\n",
      "-2\n",
      "Molecules in largest cluster identified: 11\n",
      "-3\n",
      "Molecules in largest cluster identified: 11\n",
      "-4\n"
     ]
    }
   ],
   "source": [
    "intrinsic_r_,norm_intrinsic_r_,core_rad_ =[],[],[]\n",
    "\n",
    "eo_o_names = 'name '+' '.join(str(i) for i in ['O009','O008', 'O007', 'O006', 'O005',  'O004' , 'O003',  'O002', 'O001',  'O000',  'O00F',  'O00G','O00H', 'O00I',  'O00J' ,'O00L', 'O00K', 'O00M' ,'O00N' , 'O00O', 'O00P', 'O00Q' , 'O00R', 'O00S' ,'O00T' , 'O00U', 'O00V',  'O00W' , 'O00X', 'O00Y','O011','9C02', 'C01Z', 'C01X', 'C01V', 'C01T', 'C01R', 'C01P', 'C01N', 'C01L', 'C01J', 'C01H', 'C01F', 'C01D', 'C01B', '7C01',\n",
    "            '9C01', '5C01', '3C01', '1C01', 'C00Z', 'C00X', '1C00','3C00', '5C00', '7C00', '9C00', 'C00B', 'C00D', 'C00F', 'C00H', 'C00J' ])\n",
    "\n",
    "ma_o_names = 'name '+' '.join(str(i) for i in  ['O012', 'O010', 'O015', 'O016', 'O019', 'O01A', 'O01D', 'O01F', 'O01G', 'O00C', 'O00D', 'O00A','8C02', '4C02', '2C02', 'C02E', 'C02I', 'C02M', 'C02Q', 'C02U', 'C02Y', 'C00S', 'C00Q', 'C00M' ])\n",
    "\n",
    "for t in range(1,5,1):\n",
    "    \n",
    "    largest_cluster_resids = find_largest_cluster(u,-t,'resname LIG',\n",
    "                                              cutoff_distance=20,\n",
    "                                              cluster_atoms=False)\n",
    "\n",
    "    \n",
    "    print('Molecules in largest cluster identified: '+str(len(largest_cluster_resids)))\n",
    "    \n",
    "\n",
    "    cluster_atoms_positions,core_sel_atoms_positions,shell_sel_atoms_positions,solvent_atoms_positions,solute_atoms_positions = make_cluster_whole(u,\n",
    "                                                                                            ts=-t,\n",
    "                                                                                           cluster_resids = largest_cluster_resids,\n",
    "                                                                                            core_selection=ma_o_names,\n",
    "                                                                                            shell_selection=eo_o_names)\n",
    "\n",
    "    intrinsic_r,spherical_r,core_radius,core_roughness = spherical_intrinsic_density(u,\n",
    "                                    frame=-t,\n",
    "                                    no_bins=21,\n",
    "                                    cluster_resids=largest_cluster_resids,                                \n",
    "                                    cluster_atoms_positions=cluster_atoms_positions,\n",
    "                                    core_sel_atoms_positions=core_sel_atoms_positions,\n",
    "                                    shell_sel_atoms_positions=shell_sel_atoms_positions,\n",
    "                                    normalisation_run=False)\n",
    "    \n",
    "    intrinsic_r_.append(intrinsic_r)\n",
    "    \n",
    "    norm_intrinsic_r,norm_spherical_r,core_radius,core_roughness = spherical_intrinsic_density(u,\n",
    "                                    frame=-t,\n",
    "                                    no_bins=21,\n",
    "                                    cluster_resids=largest_cluster_resids,                                \n",
    "                                    cluster_atoms_positions=cluster_atoms_positions,\n",
    "                                    core_sel_atoms_positions=core_sel_atoms_positions,\n",
    "                                    shell_sel_atoms_positions= shell_sel_atoms_positions,\n",
    "                                    no_random_points=10000,\n",
    "                                    normalisation_run=True)\n",
    "    norm_intrinsic_r_.append(norm_intrinsic_r)\n",
    "    \n",
    "    core_rad_.append([core_radius,core_roughness])\n",
    "    print(-t)\n",
    "#     print(u.trajectory[-t])\n",
    "#     print(core_radius,core_roughness)"
   ]
  },
  {
   "cell_type": "code",
   "execution_count": 199,
   "metadata": {},
   "outputs": [
    {
     "data": {
      "image/png": "[encoded data removed]",
      "text/plain": [
       "<Figure size 432x288 with 1 Axes>"
      ]
     },
     "metadata": {
      "needs_background": "light"
     },
     "output_type": "display_data"
    },
    {
     "data": {
      "image/png": "[encoded data removed]",
      "text/plain": [
       "<Figure size 432x288 with 1 Axes>"
      ]
     },
     "metadata": {
      "needs_background": "light"
     },
     "output_type": "display_data"
    },
    {
     "name": "stderr",
     "output_type": "stream",
     "text": [
      "/var/folders/mj/f780t1f175j8s3hb2g3mm24h0000gn/T/ipykernel_7353/1716943745.py:8: RuntimeWarning: divide by zero encountered in true_divide\n",
      "  plt.plot(np.arange(-29.5,119.5,1),dr/norm_dr)\n",
      "/var/folders/mj/f780t1f175j8s3hb2g3mm24h0000gn/T/ipykernel_7353/1716943745.py:8: RuntimeWarning: invalid value encountered in true_divide\n",
      "  plt.plot(np.arange(-29.5,119.5,1),dr/norm_dr)\n"
     ]
    },
    {
     "data": {
      "image/png": "[encoded data removed]",
      "text/plain": [
       "<Figure size 432x288 with 1 Axes>"
      ]
     },
     "metadata": {
      "needs_background": "light"
     },
     "output_type": "display_data"
    }
   ],
   "source": [
    "dr,a,b = plt.hist(sum(intrinsic_r_,[]),bins=np.arange(-30,120,1))\n",
    "plt.show()\n",
    "plt.hist(spherical_r,bins=np.arange(-30,120,1))\n",
    "plt.show()\n",
    "norm_dr,a,b = plt.hist(sum(norm_intrinsic_r_,[]),bins=np.arange(-30,120,1))\n",
    "# plt.hist(norm_spherical_r)\n",
    "plt.close()\n",
    "plt.plot(np.arange(-29.5,119.5,1),dr/norm_dr)\n",
    "plt.xlim([-15,50])\n",
    "plt.show()"
   ]
  },
  {
   "cell_type": "code",
   "execution_count": 190,
   "metadata": {},
   "outputs": [
    {
     "data": {
      "text/plain": [
       "(14.763706833976467, 4.150709167901279)"
      ]
     },
     "execution_count": 190,
     "metadata": {},
     "output_type": "execute_result"
    }
   ],
   "source": [
    "np.mean([i[0] for i in core_rad_]),np.mean([i[1] for i in core_rad_])"
   ]
  },
  {
   "cell_type": "code",
   "execution_count": null,
   "metadata": {},
   "outputs": [],
   "source": []
  }
 ],
 "metadata": {
  "kernelspec": {
   "display_name": "Python 3 (ipykernel)",
   "language": "python",
   "name": "python3"
  },
  "language_info": {
   "codemirror_mode": {
    "name": "ipython",
    "version": 3
   },
   "file_extension": ".py",
   "mimetype": "text/x-python",
   "name": "python",
   "nbconvert_exporter": "python",
   "pygments_lexer": "ipython3",
   "version": "3.10.4"
  }
 },
 "nbformat": 4,
 "nbformat_minor": 4
}
