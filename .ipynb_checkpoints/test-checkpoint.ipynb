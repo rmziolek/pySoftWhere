{
 "cells": [
  {
   "cell_type": "code",
   "execution_count": 1,
   "metadata": {},
   "outputs": [],
   "source": [
    "\n",
    "import MDAnalysis as mda"
   ]
  },
  {
   "cell_type": "code",
   "execution_count": 3,
   "metadata": {},
   "outputs": [],
   "source": [
    "###\n",
    "topology_ = '../../../for_hrach/tx114/production.tpr'\n",
    "\n",
    "trajectory_ = '../../../for_hrach/tx114/production.trr'\n",
    "\n",
    "output_file_water3=\"tx114_cluster_sizetest.txt\"\n",
    "\n",
    "output_file_water4=\"tx114_core_radtest.txt\"\n",
    "\n",
    "u=mda.Universe(topology_,trajectory_)\n",
    "####select micelle\n",
    "micelle=u.select_atoms('not name HW? OW')\n",
    "micelle.unwrap()\n",
    "####select hydrophobic core and hydrophilic shell\n",
    "micelle_hydrophilic=micelle.select_atoms('resname TX4 and not name C1D C1C C1B C1A C1E C1F C2 C3A C3B C4 C5 C6C C6B C6A ')\n",
    "micelle_hydrophobic=micelle.select_atoms('resname TX4 and name C1D C1C C1B C1A C1E C1F C2 C3A C3B C4 C5 C6C C6B C6A ')\n",
    "water=u.select_atoms('name OW')\n",
    "\n",
    "\n",
    "\n",
    "start_ = -100\n",
    "skip_ = 10\n",
    "\n",
    "\n",
    "measure_intrinsic_density=water # choose micelle_hydrophobic, micelle_hydrophilic, water\n",
    "\n",
    "\n",
    "no_bins=31 #this actually gives (N-1)**2 bins (this is the number of edges in 1D)\n",
    "cluster_atoms=u.select_atoms('name C1A')\n",
    "cutoff_cluster=10.0\n",
    "###"
   ]
  },
  {
   "cell_type": "code",
   "execution_count": 4,
   "metadata": {},
   "outputs": [],
   "source": [
    "\n",
    "import MDAnalysis as mda\n",
    "import MDAnalysis.analysis.distances\n",
    "\n",
    "import cluster\n",
    "import intrinsic_density"
   ]
  },
  {
   "cell_type": "code",
   "execution_count": 6,
   "metadata": {},
   "outputs": [],
   "source": [
    "topology_ = '../../../for_hrach/tx114/production.tpr'\n",
    "\n",
    "trajectory_ = '../../../for_hrach/tx114/production.trr'\n",
    "\n",
    "cluster_atom_sel = 'name C1A'\n",
    "\n",
    "cutoff_cluster=10.0\n",
    "\n",
    "u=mda.Universe(topology_,trajectory_)\n",
    "\n",
    "cluster_atoms=u.select_atoms(cluster_atom_sel)\n"
   ]
  },
  {
   "cell_type": "code",
   "execution_count": 7,
   "metadata": {},
   "outputs": [
    {
     "ename": "AttributeError",
     "evalue": "module networkx has no attribute connected_component_subgraphs",
     "output_type": "error",
     "traceback": [
      "\u001b[0;31m---------------------------------------------------------------------------\u001b[0m",
      "\u001b[0;31mAttributeError\u001b[0m                            Traceback (most recent call last)",
      "\u001b[0;32m/var/folders/mj/f780t1f175j8s3hb2g3mm24h0000gn/T/ipykernel_10114/239690834.py\u001b[0m in \u001b[0;36m<module>\u001b[0;34m\u001b[0m\n\u001b[1;32m      1\u001b[0m \u001b[0;32mfor\u001b[0m \u001b[0mts\u001b[0m \u001b[0;32min\u001b[0m \u001b[0mu\u001b[0m\u001b[0;34m.\u001b[0m\u001b[0mtrajectory\u001b[0m\u001b[0;34m[\u001b[0m\u001b[0;36m0\u001b[0m\u001b[0;34m:\u001b[0m\u001b[0;36m1\u001b[0m\u001b[0;34m:\u001b[0m\u001b[0;34m]\u001b[0m\u001b[0;34m:\u001b[0m\u001b[0;34m\u001b[0m\u001b[0;34m\u001b[0m\u001b[0m\n\u001b[0;32m----> 2\u001b[0;31m     \u001b[0mc\u001b[0m\u001b[0;34m=\u001b[0m\u001b[0mcluster\u001b[0m\u001b[0;34m.\u001b[0m\u001b[0mlargest_cluster\u001b[0m\u001b[0;34m(\u001b[0m\u001b[0mu\u001b[0m\u001b[0;34m,\u001b[0m\u001b[0mcluster_atoms\u001b[0m\u001b[0;34m,\u001b[0m\u001b[0;36m10\u001b[0m\u001b[0;34m,\u001b[0m\u001b[0mts\u001b[0m\u001b[0;34m.\u001b[0m\u001b[0mframe\u001b[0m\u001b[0;34m)\u001b[0m\u001b[0;34m(\u001b[0m\u001b[0;34m)\u001b[0m\u001b[0;34m\u001b[0m\u001b[0;34m\u001b[0m\u001b[0m\n\u001b[0m\u001b[1;32m      3\u001b[0m     \u001b[0mprint\u001b[0m\u001b[0;34m(\u001b[0m\u001b[0mc\u001b[0m\u001b[0;34m)\u001b[0m\u001b[0;34m\u001b[0m\u001b[0;34m\u001b[0m\u001b[0m\n",
      "\u001b[0;32m~/Documents/pd/sms/sms/cluster.py\u001b[0m in \u001b[0;36m__init__\u001b[0;34m(self, u, cluster_atoms, cluster_cutoff, frame)\u001b[0m\n\u001b[1;32m     15\u001b[0m         \u001b[0mself\u001b[0m\u001b[0;34m.\u001b[0m\u001b[0mframe\u001b[0m \u001b[0;34m=\u001b[0m \u001b[0mframe\u001b[0m\u001b[0;34m\u001b[0m\u001b[0;34m\u001b[0m\u001b[0m\n\u001b[1;32m     16\u001b[0m \u001b[0;34m\u001b[0m\u001b[0m\n\u001b[0;32m---> 17\u001b[0;31m         \u001b[0mself\u001b[0m\u001b[0;34m.\u001b[0m\u001b[0m_cluster_gt\u001b[0m\u001b[0;34m(\u001b[0m\u001b[0;34m)\u001b[0m\u001b[0;34m\u001b[0m\u001b[0;34m\u001b[0m\u001b[0m\n\u001b[0m\u001b[1;32m     18\u001b[0m \u001b[0;34m\u001b[0m\u001b[0m\n\u001b[1;32m     19\u001b[0m \u001b[0;34m\u001b[0m\u001b[0m\n",
      "\u001b[0;32m~/Documents/pd/sms/sms/cluster.py\u001b[0m in \u001b[0;36m_cluster_gt\u001b[0;34m(self)\u001b[0m\n\u001b[1;32m     46\u001b[0m \u001b[0;34m\u001b[0m\u001b[0m\n\u001b[1;32m     47\u001b[0m \u001b[0;34m\u001b[0m\u001b[0m\n\u001b[0;32m---> 48\u001b[0;31m         \u001b[0mclusters\u001b[0m\u001b[0;34m=\u001b[0m\u001b[0;34m[\u001b[0m\u001b[0mh\u001b[0m\u001b[0;34m.\u001b[0m\u001b[0mnodes\u001b[0m \u001b[0;32mfor\u001b[0m \u001b[0mh\u001b[0m \u001b[0;32min\u001b[0m \u001b[0mnx\u001b[0m\u001b[0;34m.\u001b[0m\u001b[0mconnected_component_subgraphs\u001b[0m\u001b[0;34m(\u001b[0m\u001b[0mG\u001b[0m\u001b[0;34m)\u001b[0m\u001b[0;34m]\u001b[0m\u001b[0;34m\u001b[0m\u001b[0;34m\u001b[0m\u001b[0m\n\u001b[0m\u001b[1;32m     49\u001b[0m \u001b[0;34m\u001b[0m\u001b[0m\n\u001b[1;32m     50\u001b[0m         \u001b[0mcluster_sizes\u001b[0m\u001b[0;34m=\u001b[0m\u001b[0;34m[\u001b[0m\u001b[0mlen\u001b[0m\u001b[0;34m(\u001b[0m\u001b[0mh\u001b[0m\u001b[0;34m)\u001b[0m \u001b[0;32mfor\u001b[0m \u001b[0mh\u001b[0m \u001b[0;32min\u001b[0m \u001b[0mnx\u001b[0m\u001b[0;34m.\u001b[0m\u001b[0mconnected_component_subgraphs\u001b[0m\u001b[0;34m(\u001b[0m\u001b[0mG\u001b[0m\u001b[0;34m)\u001b[0m\u001b[0;34m]\u001b[0m\u001b[0;34m\u001b[0m\u001b[0;34m\u001b[0m\u001b[0m\n",
      "\u001b[0;32m~/opt/anaconda3/envs/translocation/lib/python3.9/site-packages/networkx/__init__.py\u001b[0m in \u001b[0;36m__getattr__\u001b[0;34m(name)\u001b[0m\n\u001b[1;32m     49\u001b[0m             \u001b[0;34m\"This message will be removed in NetworkX 3.0.\"\u001b[0m\u001b[0;34m\u001b[0m\u001b[0;34m\u001b[0m\u001b[0m\n\u001b[1;32m     50\u001b[0m         )\n\u001b[0;32m---> 51\u001b[0;31m     \u001b[0;32mraise\u001b[0m \u001b[0mAttributeError\u001b[0m\u001b[0;34m(\u001b[0m\u001b[0;34mf\"module {__name__} has no attribute {name}\"\u001b[0m\u001b[0;34m)\u001b[0m\u001b[0;34m\u001b[0m\u001b[0;34m\u001b[0m\u001b[0m\n\u001b[0m\u001b[1;32m     52\u001b[0m \u001b[0;34m\u001b[0m\u001b[0m\n\u001b[1;32m     53\u001b[0m \u001b[0;34m\u001b[0m\u001b[0m\n",
      "\u001b[0;31mAttributeError\u001b[0m: module networkx has no attribute connected_component_subgraphs"
     ]
    }
   ],
   "source": [
    "for ts in u.trajectory[0:1:]:\n",
    "    c=cluster.largest_cluster(u,cluster_atoms,10,ts.frame)()\n",
    "    print(c)"
   ]
  },
  {
   "cell_type": "code",
   "execution_count": 5,
   "metadata": {},
   "outputs": [
    {
     "name": "stdout",
     "output_type": "stream",
     "text": [
      "[149, 1]\n",
      "[148, 1, 1]\n",
      "[149, 1]\n",
      "[149, 1]\n",
      "[149, 1]\n",
      "[149, 1]\n",
      "[149, 1]\n",
      "[149, 1]\n",
      "[149, 1]\n",
      "[149, 1]\n",
      "[149, 1]\n",
      "[149, 1]\n",
      "[149, 1]\n",
      "[149, 1]\n",
      "[149, 1]\n",
      "[149, 1]\n",
      "[149, 1]\n",
      "[149, 1]\n",
      "[149, 1]\n",
      "[149, 1]\n"
     ]
    }
   ],
   "source": [
    "for ts in u.trajectory[0:100:5]:\n",
    "    print(cluster.cluster_distribution(u,cluster_atoms,10,ts.frame)())"
   ]
  },
  {
   "cell_type": "code",
   "execution_count": 5,
   "metadata": {},
   "outputs": [],
   "source": [
    "id_=intrinsic_density.spherical_intrinsic_density(u,cluster_atoms,10,\n",
    "                                              micelle,\n",
    "                                             micelle_hydrophobic,\n",
    "                                             micelle_hydrophobic,\n",
    "                                             0)"
   ]
  },
  {
   "cell_type": "code",
   "execution_count": 6,
   "metadata": {},
   "outputs": [
    {
     "data": {
      "text/plain": [
       "[NodeView((0, 19, 20, 42, 141, 1, 14, 40, 65, 75, 91, 105, 2, 5, 41, 62, 122, 127, 135, 3, 57, 61, 114, 4, 10, 35, 76, 90, 96, 108, 126, 146, 60, 66, 89, 6, 8, 22, 33, 82, 121, 149, 7, 15, 95, 99, 111, 112, 118, 120, 9, 39, 81, 116, 11, 25, 71, 12, 18, 70, 73, 93, 104, 13, 48, 86, 103, 124, 128, 148, 64, 16, 106, 17, 23, 36, 85, 98, 50, 63, 129, 143, 32, 53, 109, 132, 133, 21, 54, 74, 24, 43, 80, 84, 142, 47, 52, 113, 131, 26, 31, 88, 125, 140, 27, 34, 44, 59, 28, 56, 100, 29, 97, 101, 136, 145, 30, 37, 51, 77, 117, 139, 67, 130, 38, 58, 92, 94, 102, 45, 78, 46, 134, 69, 107, 123, 49, 68, 115, 79, 55, 110, 83, 144, 72, 137, 119, 138, 147))]"
      ]
     },
     "execution_count": 6,
     "metadata": {},
     "output_type": "execute_result"
    }
   ],
   "source": [
    "id_()"
   ]
  },
  {
   "cell_type": "code",
   "execution_count": 8,
   "metadata": {},
   "outputs": [
    {
     "data": {
      "text/plain": [
       "'2.3'"
      ]
     },
     "execution_count": 8,
     "metadata": {},
     "output_type": "execute_result"
    }
   ],
   "source": [
    "import networkx as nx\n",
    "nx.__version__"
   ]
  },
  {
   "cell_type": "code",
   "execution_count": null,
   "metadata": {},
   "outputs": [],
   "source": []
  }
 ],
 "metadata": {
  "kernelspec": {
   "display_name": "Python 3 (ipykernel)",
   "language": "python",
   "name": "python3"
  },
  "language_info": {
   "codemirror_mode": {
    "name": "ipython",
    "version": 3
   },
   "file_extension": ".py",
   "mimetype": "text/x-python",
   "name": "python",
   "nbconvert_exporter": "python",
   "pygments_lexer": "ipython3",
   "version": "3.9.7"
  }
 },
 "nbformat": 4,
 "nbformat_minor": 4
}
