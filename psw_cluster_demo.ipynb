{
 "cells": [
  {
   "cell_type": "code",
   "execution_count": 1,
   "metadata": {
    "scrolled": false
   },
   "outputs": [
    {
     "name": "stderr",
     "output_type": "stream",
     "text": [
      "/Users/rmz/opt/anaconda3/envs/pol/lib/python3.10/site-packages/tqdm/auto.py:22: TqdmWarning: IProgress not found. Please update jupyter and ipywidgets. See https://ipywidgets.readthedocs.io/en/stable/user_install.html\n",
      "  from .autonotebook import tqdm as notebook_tqdm\n"
     ]
    }
   ],
   "source": [
    "import MDAnalysis as mda \n",
    "import matplotlib.pyplot as plt\n",
    "import numpy as np\n",
    "\n",
    "import clustering.cluster as psw_cluster\n",
    "import ICSI.icsi as icsi\n",
    "import IPI.ipi as ipi"
   ]
  },
  {
   "cell_type": "code",
   "execution_count": 2,
   "metadata": {},
   "outputs": [],
   "source": [
    "topology_ = '../../../for_hrach/tx114/production.tpr'\n",
    "\n",
    "trajectory_ = '../../../for_hrach/tx114/production.trr'\n",
    "\n",
    "u=mda.Universe(topology_,trajectory_)\n",
    "\n",
    "micelle=u.select_atoms('not name HW? OW')\n"
   ]
  },
  {
   "cell_type": "code",
   "execution_count": 3,
   "metadata": {
    "scrolled": true
   },
   "outputs": [
    {
     "name": "stdout",
     "output_type": "stream",
     "text": [
      "[139, 141, 27, 30, 37, 49, 50, 52, 69, 70, 73, 78, 81, 84, 89, 99, 104, 114, 116, 120, 124, 125]\n"
     ]
    }
   ],
   "source": [
    "largest_cluster_resids=psw_cluster.find_largest_cluster(u,\n",
    "                                   frame=10,\n",
    "                                   selection='name C*',\n",
    "                                   cutoff_distance=6,\n",
    "                                   define_clustering_atoms=False)()\n",
    "print(largest_cluster_resids)"
   ]
  },
  {
   "cell_type": "code",
   "execution_count": 4,
   "metadata": {},
   "outputs": [
    {
     "name": "stdout",
     "output_type": "stream",
     "text": [
      "[[0, 19, 141], [1, 40, 105, 16, 116, 120], [2, 66, 5, 135, 41, 43, 111, 84, 85, 118, 95, 62, 127], [24, 57, 114, 3], [10, 4, 76], [32, 33, 132, 133, 6, 42, 20, 117, 86, 121, 28], [112, 7], [8], [129, 9, 12, 143, 144, 18, 23, 39, 45, 50, 54, 55, 61, 63, 65, 70, 81, 91, 92, 104, 110], [122, 11, 71, 47], [100, 13, 17, 89, 60], [14], [15], [21], [82, 75, 22], [34, 131, 44, 52, 25], [138, 140, 26, 29, 36, 48, 49, 51, 68, 69, 72, 77, 80, 83, 88, 98, 103, 113, 115, 119, 123, 124], [27], [96, 130, 37, 90, 30], [31], [35], [38], [46], [109, 53], [56], [58], [59], [64], [67], [73], [74], [78], [79], [87], [148, 93], [94], [136, 97], [99], [101, 134], [102], [106], [145, 107], [108], [125], [126], [128], [137], [139], [142], [146], [147], [149]]\n"
     ]
    }
   ],
   "source": [
    "c=psw_cluster.find_all_clusters(u,\n",
    "                                frame=10,\n",
    "                                selection='name C*',\n",
    "                                cutoff_distance=6,\n",
    "                                define_clustering_atoms=False)()\n",
    "print(c)"
   ]
  },
  {
   "cell_type": "code",
   "execution_count": 5,
   "metadata": {},
   "outputs": [],
   "source": [
    "micelle_shell= 'resname TX4 and not name C1D C1C C1B C1A C1E C1F C2 C3A C3B C4 C5 C6C C6B C6A '\n",
    "micelle_core= 'resname TX4 and name C1D C1C C1B C1A C1E C1F C2 C3A C3B C4 C5 C6C C6B C6A '\n",
    "\n",
    "cluster_atoms_positions,core_sel_atoms_positions,shell_sel_atoms_positions,solvent_atoms_positions=psw_cluster.make_cluster_whole(u,\n",
    "                                frame = 10,\n",
    "                                cluster_resids  = largest_cluster_resids,\n",
    "                                core_selection  = micelle_core,\n",
    "                                shell_selection = micelle_shell)()"
   ]
  },
  {
   "cell_type": "code",
   "execution_count": 40,
   "metadata": {},
   "outputs": [
    {
     "data": {
      "text/plain": [
       "(array([ 60., 124., 205., 199., 222., 320., 248., 221.,  81.,  58.]),\n",
       " array([31.054134, 37.12134 , 43.188553, 49.25576 , 55.322968, 61.390175,\n",
       "        67.45738 , 73.5246  , 79.591805, 85.65901 , 91.72622 ],\n",
       "       dtype=float32),\n",
       " <BarContainer object of 10 artists>)"
      ]
     },
     "execution_count": 40,
     "metadata": {},
     "output_type": "execute_result"
    },
    {
     "data": {
      "image/png": "[encoded data removed]",
      "text/plain": [
       "<Figure size 432x288 with 1 Axes>"
      ]
     },
     "metadata": {
      "needs_background": "light"
     },
     "output_type": "display_data"
    }
   ],
   "source": [
    "plt.hist(shell_sel_atoms_positions[:,1])\n",
    "# plt.savefig('ignore.pdf')\n",
    "# plt.show()\n",
    "# plt.hist(core_sel_atoms_positions[:,1])\n",
    "# plt.show()\n",
    "# plt.hist(shell_sel_atoms_positions[:,1])\n",
    "# plt.show()"
   ]
  },
  {
   "cell_type": "code",
   "execution_count": 8,
   "metadata": {},
   "outputs": [],
   "source": [
    "intrinsic_r, spherical_r, icsi_vals =psw_icsi.icsi(u, \n",
    "                                                        \n",
    "                                    cluster_resids=largest_cluster_resids,\n",
    "                                    cluster_atoms_positions=cluster_atoms_positions,\n",
    "                                    core_sel_atoms_positions=core_sel_atoms_positions,\n",
    "                                    shell_sel_atoms_positions=shell_sel_atoms_positions,\n",
    "                                    frame=100,\n",
    "                                    no_bins=31,\n",
    "                                    no_random_points=10000,\n",
    "                                    normalisation_run=False)()"
   ]
  },
  {
   "cell_type": "code",
   "execution_count": 2,
   "metadata": {},
   "outputs": [],
   "source": [
    "slab=mda.Universe('../../../interface_f8bt/f8bt_psma200/nvt-eq/int_npt.tpr',\n",
    "               '../../../interface_f8bt/f8bt_psma200/nvt-eq/int_npt_skip2.xtc')"
   ]
  },
  {
   "cell_type": "code",
   "execution_count": 10,
   "metadata": {},
   "outputs": [],
   "source": [
    "intrinsic_z = ipi.ipi(slab,\n",
    "                                 frame=-7,\n",
    "                                 core_sel='resname UNK and prop mass >2',\n",
    "                                 density_sel='resname SMA and type C*',\n",
    "                                 interface='Lower', #Lower or Upper... \n",
    "                                 no_bins=51,\n",
    "                                 recombine=True, ###set true if you're using a slab/bilayer (not seperated monolayers!)\n",
    "                                 cluster=True,#if you want to check if anything has escaped slab/bilayer so it's not included\n",
    "                                 interpolate_interface=False)() ###can use this if the layer is patchy"
   ]
  },
  {
   "cell_type": "code",
   "execution_count": null,
   "metadata": {},
   "outputs": [],
   "source": [
    "stats"
   ]
  },
  {
   "cell_type": "code",
   "execution_count": 9,
   "metadata": {},
   "outputs": [
    {
     "data": {
      "image/png": "[encoded data removed]",
      "text/plain": [
       "<Figure size 432x288 with 1 Axes>"
      ]
     },
     "metadata": {
      "needs_background": "light"
     },
     "output_type": "display_data"
    }
   ],
   "source": [
    "plt.hist([-i for i in intrinsic_z],bins=np.arange(-20,50,1))\n",
    "plt.show()"
   ]
  },
  {
   "cell_type": "code",
   "execution_count": null,
   "metadata": {},
   "outputs": [],
   "source": [
    "###could make this work for monolayer (and patchy) by setting recomb off (making sel before...)\n",
    "### and by setting clustering off for patchy...\n",
    "\n",
    "\n",
    "#intrinsic density - does one frame at a time for flexibility and RAM reqs\n",
    "z_o = np.zeros([len(np.arange(-30,50,1))])\n",
    "\n",
    "for ts in u.trajectory[-100::20]:\n",
    "    \n",
    "    z,z_fixed = planar_intrinsic_density(u,\n",
    "                                 timestep=ts.frame,\n",
    "                                 core_sel='resname UNK and prop mass >2',\n",
    "                                 density_sel='resname SMA and type C*',\n",
    "                                 interface='Lower', #Lower or Upper... \n",
    "                                 no_bins=51,\n",
    "                                 recombine=True, ###set true if you're using a slab/bilayer\n",
    "                                 cluster=True,#if you want to check if anything has escaped slab/bilayer so it's not included\n",
    "                                 interpolate_interface=False)#if it's patchy...\n",
    "#                                  interpolate_interface=True) \n",
    "    ###might only want to use cluster for bilayers...\n",
    "    y,a,b=plt.hist(np.array(z),bins=np.arange(-30.5,50,1))\n",
    "    plt.close()\n",
    "    z_o+=y\n",
    "    print(ts)\n",
    "    \n",
    "    \n",
    "#intrinsic tracking (can do by carefully designing main fn and still low RAM req...)\n",
    "\n",
    "intrinsic_z_tracking=[]\n",
    "\n",
    "for ts in u.trajectory[-100::20]:\n",
    "    \n",
    "    z,z_fixed = planar_intrinsic_density(u,\n",
    "                                 timestep=ts.frame,\n",
    "                                 core_sel='resname UNK and prop mass >2',\n",
    "                                 density_sel='resname SMA and type C*',\n",
    "                                 interface='Lower', \n",
    "                                 no_bins=51,\n",
    "                                 recombine=True, ###set true if you're using a slab/bilayer\n",
    "                                 cluster=True) #if you want to check if anything has escaped slab/bilayer so it's not included\n",
    "    ###might only want to use cluster for bilayers...\n",
    "\n",
    "    intrinsic_z_tracking.append(z)\n",
    "    print(ts)"
   ]
  }
 ],
 "metadata": {
  "kernelspec": {
   "display_name": "Python 3 (ipykernel)",
   "language": "python",
   "name": "python3"
  },
  "language_info": {
   "codemirror_mode": {
    "name": "ipython",
    "version": 3
   },
   "file_extension": ".py",
   "mimetype": "text/x-python",
   "name": "python",
   "nbconvert_exporter": "python",
   "pygments_lexer": "ipython3",
   "version": "3.10.4"
  }
 },
 "nbformat": 4,
 "nbformat_minor": 4
}
