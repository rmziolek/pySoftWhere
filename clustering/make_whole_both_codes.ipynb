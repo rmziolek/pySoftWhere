{
 "cells": [
  {
   "cell_type": "code",
   "execution_count": 2,
   "metadata": {},
   "outputs": [],
   "source": [
    "import numpy as np\n",
    "import MDAnalysis as mda\n",
    "import matplotlib.pyplot as plt\n",
    "import MDAnalysis.analysis.distances\n",
    "import networkx as nx\n",
    "import scipy.stats as stats\n",
    "from itertools import product as product"
   ]
  },
  {
   "cell_type": "code",
   "execution_count": 6,
   "metadata": {},
   "outputs": [
    {
     "name": "stdout",
     "output_type": "stream",
     "text": [
      "AnnRevPhysChem_54_141_2003.pdf  \u001b[34mfrom_asb\u001b[m\u001b[m/\r\n",
      "EPSRC_survey round4.docx        \u001b[34mimpl_solv_test\u001b[m\u001b[m/\r\n",
      "Multiwfn_3.7.pdf                \u001b[34minterface_f8bt\u001b[m\u001b[m/\r\n",
      "Untitled.mov                    \u001b[34mmelt_cooling\u001b[m\u001b[m/\r\n",
      "\u001b[34mZoom\u001b[m\u001b[m/                           \u001b[34mnew_pysoftk\u001b[m\u001b[m/\r\n",
      "abstract.docx                   \u001b[34mp1d\u001b[m\u001b[m/\r\n",
      "\u001b[34mamps\u001b[m\u001b[m/                           \u001b[34mpapers\u001b[m\u001b[m/\r\n",
      "\u001b[34manalysis-sessions\u001b[m\u001b[m/              \u001b[34mpd\u001b[m\u001b[m/\r\n",
      "\u001b[34mbpc22\u001b[m\u001b[m/                          \u001b[34mpysoftk\u001b[m\u001b[m/\r\n",
      "\u001b[34mcnns\u001b[m\u001b[m/                           pysoftk.zip\r\n",
      "\u001b[34mexchange\u001b[m\u001b[m/                       \u001b[34mreviews\u001b[m\u001b[m/\r\n",
      "\u001b[34mf8bt\u001b[m\u001b[m/                           \u001b[34mrmz\u001b[m\u001b[m/\r\n",
      "\u001b[34mf8bt_self_assembly\u001b[m\u001b[m/             \u001b[34mrmz_thesis_and_declaration 2\u001b[m\u001b[m/\r\n",
      "\u001b[34mfor_chris\u001b[m\u001b[m/                      \u001b[34mtests\u001b[m\u001b[m/\r\n",
      "\u001b[34mfor_hrach\u001b[m\u001b[m/                      translocation.yml\r\n",
      "\u001b[34mfor_mesfin\u001b[m\u001b[m/                     tx114_revised.tar\r\n",
      "\u001b[34mfor_natasha\u001b[m\u001b[m/                    ~$view_acs_omega_21.docx\r\n",
      "\u001b[34mfor_raquel\u001b[m\u001b[m/\r\n"
     ]
    }
   ],
   "source": [
    "ls ../\n"
   ]
  },
  {
   "cell_type": "code",
   "execution_count": 8,
   "metadata": {},
   "outputs": [],
   "source": [
    "u=mda.Universe('../for_chris/make_micelle_whole/step5_0.tpr',\n",
    "               '../for_chris/make_micelle_whole/step5_0.part0002.gro')"
   ]
  },
  {
   "cell_type": "code",
   "execution_count": 11,
   "metadata": {},
   "outputs": [
    {
     "data": {
      "text/plain": [
       "array(['ALA', 'ARG', 'ASN', 'ASP', 'GLN', 'GLU', 'GLY', 'HIS', 'ILE',\n",
       "       'ION', 'LEU', 'LYS', 'MET', 'PHE', 'PRO', 'SER', 'THR', 'TRP',\n",
       "       'TYR', 'VAL', 'W'], dtype=object)"
      ]
     },
     "execution_count": 11,
     "metadata": {},
     "output_type": "execute_result"
    }
   ],
   "source": [
    "np.unique(u.atoms.resnames)"
   ]
  },
  {
   "cell_type": "code",
   "execution_count": 12,
   "metadata": {},
   "outputs": [],
   "source": [
    "###quick clustering check\n",
    "\n",
    "core = u.select_atoms('protein')\n",
    "cutoff_cluster = 10\n",
    "\n",
    "\n",
    "cluster_atoms = core.select_atoms('name '+str(core.atoms.names[0]))\n",
    "\n",
    "dist_array=MDAnalysis.analysis.distances.contact_matrix(cluster_atoms.atoms.positions,cutoff=cutoff_cluster,box=u.dimensions)\n",
    "\n",
    "G = nx.from_numpy_matrix(dist_array)\n",
    "clusters=[h for h in nx.connected_components(G)]\n",
    "\n",
    "for c in clusters:\n",
    "    if len(c)==max([len(c_) for c_ in clusters]):\n",
    "        slab_resids = [i+1 for i in  c]"
   ]
  },
  {
   "cell_type": "code",
   "execution_count": 29,
   "metadata": {},
   "outputs": [
    {
     "data": {
      "text/plain": [
       "2880"
      ]
     },
     "execution_count": 29,
     "metadata": {},
     "output_type": "execute_result"
    }
   ],
   "source": [
    "core = core.select_atoms('resid '+str(' '.join([str(i) for i in slab_resids])))"
   ]
  },
  {
   "cell_type": "markdown",
   "metadata": {},
   "source": [
    "### \"New\" method that relies on making fake bonds (only good until certain size)"
   ]
  },
  {
   "cell_type": "code",
   "execution_count": 30,
   "metadata": {},
   "outputs": [],
   "source": [
    "\n",
    "\n",
    "##make sure the core selection doesn't break up and save positions as slab_calc_positions\n",
    "\n",
    "# bonds_original=core.bonds\n",
    "\n",
    "new_bond_atoms = core.select_atoms('name '+str(core.atoms.names[0]))\n",
    "#just one link\n",
    "# new_bonds=[((int(new_bond_atoms[i].index)),(int(new_bond_atoms[i+1].index))) for i in range(len(new_bond_atoms)-1)]\n",
    "#all links\n",
    "new_bonds=[]\n",
    "for i in range(len(new_bond_atoms)-1):\n",
    "    for j in range(i,len(new_bond_atoms)-1):\n",
    "        new_bonds.append(((int(new_bond_atoms[i].index)),(int(new_bond_atoms[i+1].index))))\n",
    "\n",
    "u.add_bonds(new_bonds)\n",
    "core.atoms.unwrap()\n",
    "core.atoms.write('../../for_chris/test_micelle_unwrapped.gro')\n"
   ]
  },
  {
   "cell_type": "markdown",
   "metadata": {},
   "source": [
    "### \"Old\" method that uses histograms (should work for anything reasonable)"
   ]
  },
  {
   "cell_type": "code",
   "execution_count": 13,
   "metadata": {},
   "outputs": [],
   "source": [
    "all_atoms=core.copy()\n",
    "solvent=u.select_atoms('resname W WF ION')\n",
    "test_poly=core.positions.copy()\n",
    "water_o_positions=solvent.positions.copy()\n",
    "box=u.dimensions\n",
    "for dimension in range(0,3):\n",
    "\n",
    "    y,a = stats.binned_statistic(all_atoms.positions[:,dimension],all_atoms.positions[:,dimension],bins=np.arange(-50,box[0]+50,10),statistic='count').statistic,stats.binned_statistic(all_atoms.positions[:,dimension],all_atoms.positions[:,dimension],bins=np.arange(-50,box[0]+50,10),statistic='count').bin_edges\n",
    "\n",
    "    plt.close()\n",
    "    move_above=999\n",
    "    move_water=999\n",
    "    filled=np.where(y!=0)[0]\n",
    "\n",
    "    for i in range(len(filled)-1):\n",
    "        if filled[i]!=filled[i+1]-1:\n",
    "            move_above = a[filled[i+1]]\n",
    "\n",
    "    for i in range(len(filled)-1):\n",
    "        if filled[i]!=filled[i+1]-1:\n",
    "            move_above = a[filled[i+1]]\n",
    "            move_lower_bound=a[filled[i]]\n",
    "            move_water=(move_lower_bound+move_above)/2\n",
    "    ####\n",
    "\n",
    "    if move_above!=999:\n",
    "        for atom in range(len(test_poly)):\n",
    "            if test_poly[atom][dimension]>move_above:\n",
    "                test_poly[atom][dimension]=test_poly[atom][dimension]-box[dimension]\n",
    "                \n",
    "    if move_above!=999:\n",
    "        for atom in range(len(water_o_positions)):\n",
    "            if water_o_positions[atom][dimension]>move_water:\n",
    "                water_o_positions[atom][dimension]=water_o_positions[atom][dimension]-box[dimension]\n"
   ]
  },
  {
   "cell_type": "code",
   "execution_count": 14,
   "metadata": {},
   "outputs": [],
   "source": [
    "v=u.copy()"
   ]
  },
  {
   "cell_type": "code",
   "execution_count": 15,
   "metadata": {},
   "outputs": [],
   "source": [
    "v.select_atoms('not resname W WF ION').positions = test_poly\n",
    "v.select_atoms('resname W WF ION').positions = water_o_positions"
   ]
  },
  {
   "cell_type": "code",
   "execution_count": 17,
   "metadata": {},
   "outputs": [],
   "source": [
    "v.select_atoms('not resname W WF ION').positions\n",
    "v.atoms.write('../for_chris/centered_micelle_11_05_22.gro')"
   ]
  },
  {
   "cell_type": "code",
   "execution_count": null,
   "metadata": {},
   "outputs": [],
   "source": []
  }
 ],
 "metadata": {
  "kernelspec": {
   "display_name": "Python 3 (ipykernel)",
   "language": "python",
   "name": "python3"
  },
  "language_info": {
   "codemirror_mode": {
    "name": "ipython",
    "version": 3
   },
   "file_extension": ".py",
   "mimetype": "text/x-python",
   "name": "python",
   "nbconvert_exporter": "python",
   "pygments_lexer": "ipython3",
   "version": "3.9.7"
  }
 },
 "nbformat": 4,
 "nbformat_minor": 4
}
