{
 "cells": [
  {
   "cell_type": "code",
   "execution_count": 1,
   "id": "5e790da3",
   "metadata": {},
   "outputs": [],
   "source": [
    "from tqdm.auto import tqdm\n",
    "import MDAnalysis.transformations as trans\n",
    "import numpy as np\n",
    "import matplotlib.pyplot as plt\n",
    "import MDAnalysis as mda\n"
   ]
  },
  {
   "cell_type": "code",
   "execution_count": 2,
   "id": "45eaa6f1",
   "metadata": {},
   "outputs": [],
   "source": [
    "#cwd =\"/media/raquellrdc/PhD_5/PhD/polymer/triblock\"\n",
    "cwd = '/media/raquellrdc/PhD_5/PhD/polymer/diblock'\n",
    "u = mda.Universe(\"{cwd}/step5_0.tpr\".format(cwd=cwd), \"{cwd}/trajectory_short.xtc\".format(cwd=cwd))"
   ]
  },
  {
   "cell_type": "code",
   "execution_count": 3,
   "id": "08483714",
   "metadata": {},
   "outputs": [
    {
     "data": {
      "text/plain": [
       "array(['LIG', 'SOL'], dtype=object)"
      ]
     },
     "execution_count": 3,
     "metadata": {},
     "output_type": "execute_result"
    }
   ],
   "source": [
    "np.unique(u.residues.resnames)"
   ]
  },
  {
   "cell_type": "code",
   "execution_count": 5,
   "id": "b2049c5f",
   "metadata": {},
   "outputs": [],
   "source": [
    "LIG = u.select_atoms('resname LIG')\n",
    "\n",
    "SOL = u.select_atoms('not resname LIG')\n",
    "\n"
   ]
  },
  {
   "cell_type": "code",
   "execution_count": 8,
   "id": "40fe26b0",
   "metadata": {},
   "outputs": [
    {
     "name": "stdout",
     "output_type": "stream",
     "text": [
      "<Bond between: Atom 7232, Atom 7233>\n",
      "<Bond between: Atom 7252, Atom 7255>\n"
     ]
    }
   ],
   "source": [
    "bonds = LIG.bonds\n",
    "print(bonds[-15:][0])\n",
    "print(bonds[-1])"
   ]
  },
  {
   "cell_type": "code",
   "execution_count": 9,
   "id": "9ed393c4",
   "metadata": {},
   "outputs": [
    {
     "name": "stdout",
     "output_type": "stream",
     "text": [
      "7240\n",
      "7240\n"
     ]
    }
   ],
   "source": [
    "\n",
    "bonds = LIG.bonds\n",
    "\n",
    "bonds_2 = []\n",
    "for i in range(len(bonds)):\n",
    "    if str(bonds[i][0])[7] == ':':\n",
    "        bonds_2.extend([(int(str(bonds[i][0])[5:7]), int(str(bonds[i][1])[5:7]))]) \n",
    "    if str(bonds[i][0])[8] == ':':\n",
    "        bonds_2.extend([(int(str(bonds[i][0])[5:8]), int(str(bonds[i][1])[5:8]))]) \n",
    "    if str(bonds[i][0])[9] == ':':\n",
    "        bonds_2.extend([(int(str(bonds[i][0])[5:9]), int(str(bonds[i][1])[5:9]))]) \n",
    "    if str(bonds[i][0])[10] == ':':\n",
    "        bonds_2.extend([(int(str(bonds[i][0])[5:10]), int(str(bonds[i][1])[5:10]))]) \n",
    "        \n",
    "\n",
    "\n",
    "print(len(bonds_2))\n",
    "print(len(bonds))"
   ]
  },
  {
   "cell_type": "markdown",
   "id": "76a5f7d5",
   "metadata": {},
   "source": [
    "#atom_1 = LIG.select_atoms('resname LIG and name C002')\n",
    "#print(len(atom_1))\n",
    "#print(atom_1)\n",
    "#print(np.where(LIG.positions == atom_1[0].position))\n",
    "#print(LIG.positions[np.where(LIG.positions == atom_1[0].position)])"
   ]
  },
  {
   "cell_type": "code",
   "execution_count": 11,
   "id": "8f12ddca",
   "metadata": {},
   "outputs": [
    {
     "name": "stdout",
     "output_type": "stream",
     "text": [
      "<AtomGroup [<Atom 1: C00A of type ppg_AAB of resname LIG, resid 0 and segid seg_0_S1P1>, <Atom 364: C00A of type ppg_AAB of resname LIG, resid 1 and segid seg_0_S1P1>, <Atom 727: C00A of type ppg_AAB of resname LIG, resid 2 and segid seg_0_S1P1>, ..., <Atom 6172: C00A of type ppg_AAB of resname LIG, resid 17 and segid seg_0_S1P1>, <Atom 6535: C00A of type ppg_AAB of resname LIG, resid 18 and segid seg_0_S1P1>, <Atom 6898: C00A of type ppg_AAB of resname LIG, resid 19 and segid seg_0_S1P1>]>\n"
     ]
    }
   ],
   "source": [
    "atom_1 = LIG.select_atoms('resname LIG and name C00A')\n",
    "print(atom_1)"
   ]
  },
  {
   "cell_type": "code",
   "execution_count": 13,
   "id": "19982abb",
   "metadata": {},
   "outputs": [
    {
     "name": "stdout",
     "output_type": "stream",
     "text": [
      "190\n"
     ]
    }
   ],
   "source": [
    "#atom_1 = LIG.select_atoms('resname LIG and name C002') #for triblock\n",
    "atom_1 = LIG.select_atoms('resname LIG and name C00A') #for diblock\n",
    "bonds_to_extend = []\n",
    "for i in range(len(atom_1)):\n",
    "    for j in range(len(atom_1)):\n",
    "        if i>j:\n",
    "            bonds_to_extend.extend([(i*363, (j*363))]) #for triblock and diblock\n",
    "\n",
    "print(len(bonds_to_extend))\n"
   ]
  },
  {
   "cell_type": "code",
   "execution_count": 14,
   "id": "c5bc4b5e",
   "metadata": {},
   "outputs": [
    {
     "data": {
      "text/plain": [
       "7430"
      ]
     },
     "execution_count": 14,
     "metadata": {},
     "output_type": "execute_result"
    }
   ],
   "source": [
    "bonds_total = bonds_to_extend + bonds_2\n",
    "len(bonds_total)\n",
    "u.add_TopologyAttr('bonds', bonds_total)\n",
    "print(LIG.bonds)\n",
    "#print(bonds_total)"
   ]
  }
 ],
 "metadata": {
  "kernelspec": {
   "display_name": "Python 3",
   "language": "python",
   "name": "python3"
  },
  "language_info": {
   "codemirror_mode": {
    "name": "ipython",
    "version": 3
   },
   "file_extension": ".py",
   "mimetype": "text/x-python",
   "name": "python",
   "nbconvert_exporter": "python",
   "pygments_lexer": "ipython3",
   "version": "3.7.10"
  }
 },
 "nbformat": 4,
 "nbformat_minor": 5
}
